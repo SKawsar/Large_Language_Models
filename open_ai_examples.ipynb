{
 "cells": [
  {
   "cell_type": "markdown",
   "source": [
    "Over recent years, OpenAI has emerged as a market leader in creating AI models, such as GPT-4, and releasing them to the wider community in applications like ChatGPT. These models can transform not only the way you work but also the products and services that businesses provide to customers. To begin extracting business value from OpenAI's models, you'll need to learn to work with their Application Programming Interface, or API. In this course, you'll gain hands-on experience working with the OpenAI API in Python, and will explore the wide range of functionality that the API provides. By the end of the course, you'll have the skills and knowledge needed to leverage the power of the OpenAI API to develop solutions to real-world problems."
   ],
   "metadata": {
    "collapsed": false
   },
   "id": "bc1b8735dab6cc88"
  },
  {
   "cell_type": "code",
   "outputs": [],
   "source": [
    "# Import OpenAI from the openai library\n",
    "from openai import OpenAI\n",
    "from config import OPENAI_API_KEY\n",
    "\n",
    "client = OpenAI(api_key=OPENAI_API_KEY)\n"
   ],
   "metadata": {
    "collapsed": false,
    "ExecuteTime": {
     "end_time": "2024-02-12T19:04:35.482658900Z",
     "start_time": "2024-02-12T19:04:35.064483Z"
    }
   },
   "id": "44371ce4fe13ee79",
   "execution_count": 14
  },
  {
   "cell_type": "code",
   "outputs": [
    {
     "name": "stdout",
     "output_type": "stream",
     "text": [
      "ChatCompletion(id='chatcmpl-8rVvZtrs2W5mXnhvOjxwjZyxNAC2E', choices=[Choice(finish_reason='stop', index=0, logprobs=None, message=ChatCompletionMessage(content='The FIFA World Cup 2022 was played in Qatar.', role='assistant', function_call=None, tool_calls=None))], created=1707764805, model='gpt-3.5-turbo-0613', object='chat.completion', system_fingerprint=None, usage=CompletionUsage(completion_tokens=12, prompt_tokens=51, total_tokens=63))\n"
     ]
    }
   ],
   "source": [
    "# Create a request to the Completion endpoint\n",
    "response = client.chat.completions.create(\n",
    "  model=\"gpt-3.5-turbo\",\n",
    "  messages=[\n",
    "    {\"role\": \"system\", \"content\": \"You are a helpful assistant.\"},\n",
    "    {\"role\": \"user\", \"content\": \"Who won the FIFA World Cup 2022?\"},\n",
    "    {\"role\": \"assistant\", \"content\": \"Argentina won the Football World Cup in 2022.\"},\n",
    "    {\"role\": \"user\", \"content\": \"Where was it played?\"}\n",
    "  ]\n",
    ")\n",
    "\n",
    "print(response)"
   ],
   "metadata": {
    "collapsed": false,
    "ExecuteTime": {
     "end_time": "2024-02-12T19:06:44.623504Z",
     "start_time": "2024-02-12T19:06:43.469779600Z"
    }
   },
   "id": "73970931ddb55f10",
   "execution_count": 15
  },
  {
   "cell_type": "code",
   "outputs": [
    {
     "ename": "TypeError",
     "evalue": "'ChatCompletion' object is not subscriptable",
     "output_type": "error",
     "traceback": [
      "\u001B[1;31m---------------------------------------------------------------------------\u001B[0m",
      "\u001B[1;31mTypeError\u001B[0m                                 Traceback (most recent call last)",
      "Cell \u001B[1;32mIn[16], line 1\u001B[0m\n\u001B[1;32m----> 1\u001B[0m \u001B[43mresponse\u001B[49m\u001B[43m[\u001B[49m\u001B[38;5;241;43m0\u001B[39;49m\u001B[43m]\u001B[49m\n",
      "\u001B[1;31mTypeError\u001B[0m: 'ChatCompletion' object is not subscriptable"
     ]
    }
   ],
   "source": [
    "response[0]"
   ],
   "metadata": {
    "collapsed": false,
    "ExecuteTime": {
     "end_time": "2024-02-12T19:07:32.514338400Z",
     "start_time": "2024-02-12T19:07:32.476164300Z"
    }
   },
   "id": "f6e4f0711be9a2db",
   "execution_count": 16
  },
  {
   "cell_type": "code",
   "outputs": [],
   "source": [],
   "metadata": {
    "collapsed": false
   },
   "id": "4eb8f849c501343a"
  }
 ],
 "metadata": {
  "kernelspec": {
   "display_name": "Python 3",
   "language": "python",
   "name": "python3"
  },
  "language_info": {
   "codemirror_mode": {
    "name": "ipython",
    "version": 2
   },
   "file_extension": ".py",
   "mimetype": "text/x-python",
   "name": "python",
   "nbconvert_exporter": "python",
   "pygments_lexer": "ipython2",
   "version": "2.7.6"
  }
 },
 "nbformat": 4,
 "nbformat_minor": 5
}
