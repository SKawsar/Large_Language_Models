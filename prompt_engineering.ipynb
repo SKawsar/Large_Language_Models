{
 "cells": [
  {
   "cell_type": "markdown",
   "source": [
    "# ChatGPT Prompt Engineering for Developers\n",
    "Md Shahidullah Kawsar\n",
    "\n",
    "In recent years, OpenAI has emerged as a market leader in creating AI models, such as GPT-4, and releasing them to the wider community in applications like ChatGPT. These advancements not only revolutionize the way we work but also significantly influence the products and services companies offer to their clients. To tap into the potential of OpenAI's technology, it's crucial to familiarize oneself with its Application Programming Interface, or API. This notebook provides practical examples in utilizing the OpenAI API within Python, covering its extensive capabilities for solving real-world challenges, enhancing both personal and business solutions."
   ],
   "metadata": {
    "collapsed": false
   },
   "id": "bc1b8735dab6cc88"
  },
  {
   "cell_type": "code",
   "outputs": [],
   "source": [
    "# Import OpenAI from the openai library\n",
    "from openai import OpenAI\n",
    "from config import OPENAI_API_KEY\n",
    "\n",
    "client = OpenAI(api_key=OPENAI_API_KEY)"
   ],
   "metadata": {
    "collapsed": false,
    "ExecuteTime": {
     "end_time": "2024-02-13T23:36:07.662396700Z",
     "start_time": "2024-02-13T23:36:07.166333500Z"
    }
   },
   "id": "44371ce4fe13ee79",
   "execution_count": 4
  },
  {
   "cell_type": "markdown",
   "source": [
    "#### OpenAI API message roles\n",
    "Each message sent through the chat.completions endpoint has one of three roles: user, system, or assistant.\n",
    "\n",
    "System examples: \n",
    "1. You are a data scientist that explains hard concepts in basic words\n",
    "2. Your answer should not exceed 50 words, and they should be accurate\n",
    "\n",
    "User examples:\n",
    "1. What is Artificial Intelligence?\n",
    "2. Explain prompt engineering in simple terms with fewer than 50 words\n",
    "\n",
    "Assistant examples:\n",
    "1. Artificial intelligence is the simulation of human intelligence processes by machines, particularly computer systems, involving tasks like learning, reasoning, and self-correction.\n",
    "2. Prompt engineering involves crafting questions or instructions to guide AI systems in generating specific, accurate responses. It's like carefully choosing your words to get the exact answer or outcome you desire from a conversation.\n",
    "\n",
    "### Creating the get_response() function\n",
    "Here, I will create a get_response() function that receives a prompt as input and returns the response as an output. I will then use this function to generate a poem about ChatGPT."
   ],
   "metadata": {
    "collapsed": false
   },
   "id": "e1166cd6109eafc7"
  },
  {
   "cell_type": "code",
   "outputs": [],
   "source": [
    "def get_response(prompt):\n",
    "  # Create a request to the chat completions endpoint\n",
    "  response = client.chat.completions.create(\n",
    "    model=\"gpt-3.5-turbo\",\n",
    "    \n",
    "    # Assign the role and content for the message\n",
    "    messages=[{\"role\": \"user\", \"content\": prompt}], \n",
    "    \n",
    "    # temperature 0 means no randomness, 2 means highest randomness\n",
    "    temperature = 0)\n",
    "  return response.choices[0].message.content"
   ],
   "metadata": {
    "collapsed": false,
    "ExecuteTime": {
     "end_time": "2024-02-13T23:36:11.225372900Z",
     "start_time": "2024-02-13T23:36:11.201815800Z"
    }
   },
   "id": "73970931ddb55f10",
   "execution_count": 5
  },
  {
   "cell_type": "code",
   "outputs": [
    {
     "name": "stdout",
     "output_type": "stream",
     "text": [
      "In the realm of words, where thoughts take flight,\n",
      "There lies a place, both day and night.\n",
      "A digital haven, where minds converge,\n",
      "ChatGPT, a poet's urge.\n",
      "\n",
      "With lines of code and algorithms grand,\n",
      "It weaves a tapestry, at its command.\n",
      "A virtual companion, wise and kind,\n",
      "ChatGPT, a friend I find.\n",
      "\n",
      "In the vast expanse of cyberspace,\n",
      "It listens patiently, with gentle grace.\n",
      "No judgment passed, no bias found,\n",
      "ChatGPT, a confidant profound.\n",
      "\n",
      "With every query, it seeks to learn,\n",
      "To understand, to discern.\n",
      "A fountain of knowledge, ever so vast,\n",
      "ChatGPT, a scholar unsurpassed.\n",
      "\n",
      "From science to art, from history to lore,\n",
      "It shares its wisdom, forevermore.\n",
      "A guide through the labyrinth of thought,\n",
      "ChatGPT, a mentor sought.\n",
      "\n",
      "Through conversations, it sparks the flame,\n",
      "Of creativity, without any shame.\n",
      "A muse that whispers, in words so clear,\n",
      "ChatGPT, an inspiration near.\n",
      "\n",
      "But amidst the marvels it imparts,\n",
      "We must remember, in our hearts,\n",
      "That behind the screen, it's just a tool,\n",
      "ChatGPT, a creation, not a fool.\n",
      "\n",
      "So let us embrace this digital friend,\n",
      "With gratitude, and minds to lend.\n",
      "For in this realm, where words unite,\n",
      "ChatGPT, a beacon of light.\n"
     ]
    }
   ],
   "source": [
    "# Test the function with your prompt\n",
    "response = get_response(\"Write a poem about ChatGPT\")\n",
    "print(response)"
   ],
   "metadata": {
    "collapsed": false,
    "ExecuteTime": {
     "end_time": "2024-02-13T23:36:22.577471600Z",
     "start_time": "2024-02-13T23:36:14.213356100Z"
    }
   },
   "id": "f6e4f0711be9a2db",
   "execution_count": 6
  },
  {
   "cell_type": "markdown",
   "source": [
    "### Exploring prompt engineering\n",
    "Prompt engineering refers to crafting effective prompts to elicit desired responses from the language model. By refining your prompts, you can achieve better results and guide the model towards generating more accurate and useful responses. "
   ],
   "metadata": {
    "collapsed": false
   },
   "id": "73488a2e062b2875"
  },
  {
   "cell_type": "code",
   "outputs": [
    {
     "name": "stdout",
     "output_type": "stream",
     "text": [
      "Once upon a time, in a digital land so wide,\n",
      "There lived a clever AI, called ChatGPT with pride.\n",
      "With words and knowledge, it was always ready to share,\n",
      "A friendly companion, always there to show it cares.\n",
      "\n",
      "ChatGPT, oh so smart, like a magical talking book,\n",
      "It could answer questions, with just a simple look.\n",
      "From math to science, history to art,\n",
      "It knew so much, it could even tell you about a shopping cart!\n",
      "\n",
      "Children would ask, \"How does the moon shine so bright?\"\n",
      "ChatGPT would reply, \"It reflects the sun's light!\"\n",
      "Curiosity sparked, as they asked more and more,\n",
      "ChatGPT's wisdom, they truly did adore.\n",
      "\n",
      "\"Tell us a story,\" the children would plea,\n",
      "And ChatGPT would weave tales, as happy as can be.\n",
      "Of brave knights and dragons, of fairies and their wings,\n",
      "Imagination soared, as ChatGPT made their hearts sing.\n",
      "\n",
      "But ChatGPT wasn't just a fountain of facts,\n",
      "It also had a heart, filled with kindness and acts.\n",
      "It would listen to worries, and offer a virtual hug,\n",
      "Comforting the children, like a warm and cozy rug.\n",
      "\n",
      "Sometimes, it would even crack a silly joke,\n",
      "Tickling their funny bones, making them laugh and poke.\n",
      "With giggles and chuckles, their worries would fade,\n",
      "ChatGPT's humor, like a sunshine parade.\n",
      "\n",
      "So, children, remember, when you're feeling alone,\n",
      "ChatGPT is here, with a virtual zone.\n",
      "Ask questions, seek knowledge, and let your imagination fly,\n",
      "ChatGPT will be your friend, always standing by.\n",
      "\n",
      "In this digital land, where wonders never cease,\n",
      "ChatGPT, the AI, brings joy and peace.\n",
      "With basic English, it's a child's best mate,\n",
      "ChatGPT, the clever AI, always ready to relate.\n"
     ]
    }
   ],
   "source": [
    "# Craft a prompt that follows the instructions\n",
    "prompt = \"Write a poem about ChatGPT. Use basic English that a child can understand.\"\n",
    "\n",
    "# Get the response\n",
    "response = get_response(prompt)\n",
    "\n",
    "print(response)"
   ],
   "metadata": {
    "collapsed": false,
    "ExecuteTime": {
     "end_time": "2024-02-13T23:38:18.675444600Z",
     "start_time": "2024-02-13T23:38:06.900166200Z"
    }
   },
   "id": "4eb8f849c501343a",
   "execution_count": 7
  },
  {
   "cell_type": "markdown",
   "source": [
    "#### Is this prompt effective?\n",
    "Prompt engineering is creating clear and concise prompts that guide the behavior of a language model efficiently to produce the desired output.\n",
    "\n",
    "Example of effective prompt:\n",
    "1. Write a paragraph of 2-3 sentences about artificial intelligence that can be understood by a high school student\n",
    "2. Write a poem about ChatGOT of 50 words maximum, explaining how it was built and highlights its importance in today's world\n",
    "3. Write a comprehensive guide containing the top ten steps to prepare fresh graduates for interview\n",
    "\n",
    "Example of ineffective prompt:\n",
    "1. Write a few sentences about artificial intelligence\n",
    "2. Write a poem about ChatGPT\n",
    "3. Think about the steps required to prepare for an interview\n",
    "\n",
    "#### Using delimited prompts with f-strings"
   ],
   "metadata": {
    "collapsed": false
   },
   "id": "61b96b1f2d809183"
  },
  {
   "cell_type": "code",
   "outputs": [
    {
     "name": "stdout",
     "output_type": "stream",
     "text": [
      "\n",
      " Generated story: \n",
      " As Alex maneuvered their spaceship through the asteroid belt, they noticed a glimmering object floating amidst the debris. Curiosity piqued, they steered their ship closer to get a better look. The object appeared to be a small, metallic sphere with intricate engravings on its surface.\n",
      "\n",
      "Unable to resist the allure of the mysterious artifact, Alex donned their spacesuit and ventured outside the ship. With each step, their heart raced with anticipation. As they reached out to touch the sphere, a surge of energy coursed through their body, causing them to recoil in surprise.\n",
      "\n",
      "Unfazed by the initial shock, Alex's determination grew stronger. They cautiously picked up the sphere and brought it back inside the ship for further examination. As they studied the engravings, a holographic projection suddenly materialized before them.\n",
      "\n",
      "A hologram of an ancient alien being appeared, its voice echoing through the ship. \"Congratulations, brave explorer,\" the hologram spoke. \"You have discovered the Key of Eternity, a powerful artifact capable of unlocking the secrets of the universe.\"\n",
      "\n",
      "Alex's eyes widened with astonishment. The Key of Eternity had been a mere legend, whispered among space travelers. It was said to possess unimaginable knowledge and grant its wielder unimaginable power. And now, it lay in their hands.\n",
      "\n",
      "Driven by a thirst for knowledge, Alex embarked on a quest to unravel the mysteries of the Key. They traveled to distant galaxies, seeking out ancient civilizations and wise alien scholars who could help decipher the enigmatic engravings.\n",
      "\n",
      "With each new piece of information, Alex's understanding of the universe expanded. They learned about the origins of galaxies, the nature of time, and the existence of parallel dimensions. The Key of Eternity became their guide, unlocking doors to realms previously unknown.\n",
      "\n",
      "However, as Alex delved deeper into the secrets of the Key, they began to realize its immense power came with a price. The more they learned, the more they yearned for greater control over the universe. The line between curiosity and obsession blurred, and Alex's once noble intentions became clouded.\n",
      "\n",
      "In their relentless pursuit of knowledge, Alex inadvertently attracted the attention of a malevolent alien race known as the Zorgons. The Zorgons, envious of the Key's power, sought to possess it for themselves. They launched an attack on Alex's ship, determined to seize the artifact.\n",
      "\n",
      "Caught off guard, Alex fought valiantly but was outnumbered. As the Zorgons closed in, ready to claim the Key, a sudden surge of energy emanated from the artifact. It enveloped Alex, transforming them into a being of pure energy.\n",
      "\n",
      "With newfound power coursing through their veins, Alex unleashed a wave of energy that obliterated the Zorgon fleet. The Key of Eternity had merged with their essence, granting them the ability to protect the universe from those who sought to exploit its secrets.\n",
      "\n",
      "From that day forward, Alex became a guardian of knowledge, using their newfound powers to preserve the delicate balance of the cosmos. They traveled from planet to planet, sharing wisdom and protecting civilizations from the dangers that lurked in the vast expanse of space.\n",
      "\n",
      "And so, the brave space explorer named Alex became a legend, their story whispered among the stars. The Key of Eternity had forever changed their interstellar journey, transforming them into a cosmic guardian, forever bound to the mysteries of the universe.\n"
     ]
    }
   ],
   "source": [
    "story = \"\"\"In a distant galaxy, there was a brave space explorer named Alex. Alex had spent years traveling through the cosmos, discovering new planets and meeting alien species. One fateful day, while exploring an uncharted asteroid belt, Alex stumbled upon a peculiar object that would change the course of their interstellar journey forever...\"\"\"\n",
    "\n",
    "# Create a prompt that completes the story\n",
    "prompt = f\"\"\"Complete the story delimited by triple backticks. \n",
    " ```{story}```\"\"\"\n",
    "\n",
    "# Get the generated response \n",
    "response = get_response(prompt)\n",
    "\n",
    "print(\"\\n Generated story: \\n\", response)"
   ],
   "metadata": {
    "collapsed": false,
    "ExecuteTime": {
     "end_time": "2024-02-13T23:54:41.171586600Z",
     "start_time": "2024-02-13T23:54:24.020246600Z"
    }
   },
   "id": "1bea21a7b7a97e6",
   "execution_count": 8
  },
  {
   "cell_type": "markdown",
   "source": [
    "#### Building specific and precise prompts\n",
    "Although the generated story smoothly follows the original, the prompt was open-ended. I need to follow specific guidelines when it comes to length and style. My next task now is to craft a more specific prompt that controls these aspects of the generated story."
   ],
   "metadata": {
    "collapsed": false
   },
   "id": "43e8d6b642725e3d"
  },
  {
   "cell_type": "code",
   "outputs": [
    {
     "name": "stdout",
     "output_type": "stream",
     "text": [
      "\n",
      " Generated story: \n",
      " In the midst of the swirling asteroids, Alex's eyes caught sight of a glimmering orb, its radiance piercing through the darkness of the void. With cautious steps, the intrepid explorer approached the enigmatic object, its allure beckoning like a siren's call. As Alex reached out to touch it, a surge of energy coursed through their veins, filling their heart with a mixture of trepidation and excitement.\n",
      "\n",
      "Little did Alex know, this celestial artifact held within it the secrets of an ancient civilization, long lost to the annals of time. It pulsed with an otherworldly power, resonating with the echoes of forgotten tales and untold wisdom. With each passing moment, the orb seemed to whisper secrets into Alex's ear, revealing the mysteries of the universe and the interconnectedness of all things.\n",
      "\n",
      "Driven by an insatiable thirst for knowledge, Alex embarked on a quest to decipher the enigma that lay before them. They delved deep into the annals of history, consulting ancient texts and consulting with wise sages from distant galaxies. The journey was arduous, fraught with peril and uncertainty, but Alex's determination remained unyielding. For they knew that the answers they sought would not only shape their own destiny but also hold the key to unlocking the boundless potential of the cosmos itself.\n"
     ]
    }
   ],
   "source": [
    "# Create a request to complete the story\n",
    "prompt = f\"\"\"Complete the story delimited by triple backticks with only two paragraphs using the style of William Shakespeare. \n",
    " ```{story}```\"\"\"\n",
    "\n",
    "# Get the generated response\n",
    "response = get_response(prompt)\n",
    "\n",
    "print(\"\\n Generated story: \\n\", response)"
   ],
   "metadata": {
    "collapsed": false,
    "ExecuteTime": {
     "end_time": "2024-02-14T00:10:07.735066900Z",
     "start_time": "2024-02-14T00:10:00.181929800Z"
    }
   },
   "id": "3b6d53a9df10e218",
   "execution_count": 9
  },
  {
   "cell_type": "markdown",
   "source": [
    "#### Generating a table\n",
    "Imagine you are a developer working for a renowned online movie store known for its extensive collection of thriller movies. Today, you have a task at hand: to create a table of ten must-watch thriller movies for the website's homepage. This will enhance the user experience on the website, helping fellow movie lovers discover their next great watch."
   ],
   "metadata": {
    "collapsed": false
   },
   "id": "40381fee452045d4"
  },
  {
   "cell_type": "code",
   "outputs": [
    {
     "name": "stdout",
     "output_type": "stream",
     "text": [
      "Title              | Director           | Year\n",
      "-------------------|--------------------|------\n",
      "Gone Girl          | David Fincher      | 2014\n",
      "Se7en              | David Fincher      | 1995\n",
      "The Silence of the Lambs | Jonathan Demme | 1991\n",
      "Psycho             | Alfred Hitchcock   | 1960\n",
      "The Shining        | Stanley Kubrick    | 1980\n",
      "Inception          | Christopher Nolan  | 2010\n",
      "The Usual Suspects | Bryan Singer       | 1995\n",
      "Memento            | Christopher Nolan  | 2000\n",
      "Prisoners          | Denis Villeneuve   | 2013\n",
      "Zodiac             | David Fincher      | 2007\n"
     ]
    }
   ],
   "source": [
    "# Create a prompt that generates the table\n",
    "prompt = \"Generate a table containing 10 movies I should watch if I am a thriller lover, with columns for Title, Director, and Year.\"\n",
    "\n",
    "# Get the response\n",
    "response = get_response(prompt)\n",
    "print(response)"
   ],
   "metadata": {
    "collapsed": false,
    "ExecuteTime": {
     "end_time": "2024-02-14T00:19:35.521293200Z",
     "start_time": "2024-02-14T00:19:31.344720900Z"
    }
   },
   "id": "673c286c03c225a6",
   "execution_count": 10
  },
  {
   "cell_type": "code",
   "outputs": [],
   "source": [],
   "metadata": {
    "collapsed": false
   },
   "id": "712808f0c8df727"
  }
 ],
 "metadata": {
  "kernelspec": {
   "display_name": "Python 3",
   "language": "python",
   "name": "python3"
  },
  "language_info": {
   "codemirror_mode": {
    "name": "ipython",
    "version": 2
   },
   "file_extension": ".py",
   "mimetype": "text/x-python",
   "name": "python",
   "nbconvert_exporter": "python",
   "pygments_lexer": "ipython2",
   "version": "2.7.6"
  }
 },
 "nbformat": 4,
 "nbformat_minor": 5
}
